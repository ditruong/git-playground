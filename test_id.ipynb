{
 "cells": [
  {
   "cell_type": "code",
   "execution_count": null,
   "id": "66c10835",
   "metadata": {
    "vscode": {
     "languageId": "plaintext"
    }
   },
   "outputs": [],
   "source": [
    "a = dbutils.notebook.entry_point.getDbutils().notebook().getContext()#.-notebook.entry_point.getDbutils().notebook().getContext().notebookPath().get()\n",
    " \n",
    "a.toJson()"
   ]
  },
  {
   "cell_type": "code",
   "execution_count": null,
   "id": "7c8f68f0",
   "metadata": {
    "vscode": {
     "languageId": "plaintext"
    }
   },
   "outputs": [],
   "source": [
    "print(a)"
   ]
  }
 ],
 "metadata": {
  "language_info": {
   "name": "python"
  }
 },
 "nbformat": 4,
 "nbformat_minor": 5
}
