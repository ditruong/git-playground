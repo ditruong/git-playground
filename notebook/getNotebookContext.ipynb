{
 "cells": [
  {
   "cell_type": "code",
   "execution_count": 0,
   "metadata": {
    "application/vnd.databricks.v1+cell": {
     "cellMetadata": {
      "byteLimit": 2048000,
      "rowLimit": 10000
     },
     "inputWidgets": {},
     "nuid": "3bf549cc-44c7-4e5b-8dcd-9c8cf8f94b23",
     "showTitle": false,
     "tableResultSettingsMap": {},
     "title": ""
    }
   },
   "outputs": [],
   "source": [
    "import json\n",
    "a = json.loads(dbutils.notebook.entry_point.getDbutils().notebook().getContext().toJson())\n",
    "a"
   ]
  },
  {
   "cell_type": "code",
   "execution_count": 0,
   "metadata": {
    "application/vnd.databricks.v1+cell": {
     "cellMetadata": {
      "byteLimit": 2048000,
      "rowLimit": 10000
     },
     "inputWidgets": {},
     "nuid": "b7d9b6d2-b715-4e4c-b5fd-6361239506a9",
     "showTitle": false,
     "tableResultSettingsMap": {},
     "title": ""
    }
   },
   "outputs": [],
   "source": [
    "import json\n",
    "\n",
    "context_json = dbutils.notebook.entry_point.getDbutils().notebook().getContext().toJson()\n",
    "context_dict = json.loads(context_json)\n",
    "notebookPath =  context_dict.get(\"extraContext\", {}).get(\"notebook_path\")\n",
    "notebook_path = context_dict.get(\"extraContext\", {}).get(\"gitRelativePath\", notebookPath)\n",
    "print(notebook_path)"
   ]
  }
 ],
 "metadata": {
  "application/vnd.databricks.v1+notebook": {
   "computePreferences": null,
   "dashboards": [],
   "environmentMetadata": {
    "base_environment": "",
    "environment_version": "2"
   },
   "inputWidgetPreferences": null,
   "language": "python",
   "notebookMetadata": {
    "pythonIndentUnit": 4
   },
   "notebookName": "getNotebookContext",
   "widgets": {}
  },
  "language_info": {
   "name": "python"
  }
 },
 "nbformat": 4,
 "nbformat_minor": 0
}
